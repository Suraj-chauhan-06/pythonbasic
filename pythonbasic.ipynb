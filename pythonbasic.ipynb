{
  "nbformat": 4,
  "nbformat_minor": 0,
  "metadata": {
    "colab": {
      "provenance": []
    },
    "kernelspec": {
      "name": "python3",
      "display_name": "Python 3"
    },
    "language_info": {
      "name": "python"
    }
  },
  "cells": [
    {
      "cell_type": "markdown",
      "source": [
        "Python Basic"
      ],
      "metadata": {
        "id": "6NKa12tl-6Ue"
      }
    },
    {
      "cell_type": "markdown",
      "source": [
        "1. What is Python, and why is it popular ?\n",
        "\n",
        "answer-  Python is a programming language that helps you tell a computer what to do using simple, easy-to-understand instructions. Think of it like giving the computer a list of tasks written in a way that's almost like writing a story in English.\n",
        "\n",
        "2.What is an interpreter in Python?\n",
        "\n",
        "Answer- In Python, an interpreter is a program that reads and executes Python code line by line. It translates the code you write into actions that the computer can understand and perform.\n",
        "\n",
        "Think of it like a translator: when you give the interpreter Python instructions (in the form of code), it translates those into something the computer can execute immediately. Unlike a compiler (which translates the entire code all at once), an interpreter does this one step at a time, which makes it easier for you to see the result of your code as it runs.\n",
        "\n",
        "3. What are pre-defined keywords in Python ?\n",
        "\n",
        "Answer-  In Python, predefined keywords (also known as reserved words) are words that have a special meaning in the language. You cannot use them as names for variables, functions, or classes. These keywords are part of the syntax of the language, and Python uses them to perform certain tasks.\n",
        "\n",
        "4. Can keywords be used as variable names?\n",
        "\n",
        "Answer- No, keywords in programming languages cannot be used as variable names. Keywords are reserved words that have special meaning in the language's syntax, and they are used to define the structure and behavior of the program. Since they are predefined, using them as variable names would cause errors in your code.\n",
        "\n",
        "5. What is mutability in Python?\n",
        "\n",
        "ANswer-  In Python, mutability refers to whether the contents of an object can be changed after it is created.\n",
        "\n",
        "Mutable objects can be changed after creation. For example:\n",
        "\n",
        "Lists\n",
        "Dictionaries\n",
        "Sets\n",
        "You can modify their contents, like adding or removing items.\n",
        "\n",
        "Immutable objects cannot be changed once they are created. For example:\n",
        "\n",
        "Strings\n",
        "Tuples\n",
        "Integers\n",
        "\n",
        "6. Why are lists mutable, but tuples are immutable?\n",
        "\n",
        "Answer-   The key difference between lists and tuples comes down to their design and intended use:\n",
        "\n",
        "Lists (Mutable): Lists are designed to be flexible and changeable. You can modify a list by adding, removing, or changing elements after it’s created. This makes lists useful when you need to work with data that might change over time.\n",
        "\n",
        "Tuples (Immutable): Tuples are designed to be fixed and unchangeable after they are created. Once a tuple is defined, you can't add, remove, or modify its elements. This makes tuples useful for situations where you want to ensure that the data stays constant and unchanged, providing safety and stability in your code.\n",
        "\n",
        "7.What is the difference between “==” and “is” operators in Python?\n",
        "\n",
        "Answer-  In Python, the == and is operators are used for comparison, but they do so in different ways:\n",
        "\n",
        "== (Equality Operator):\n",
        "\n",
        "Compares the values of two objects.\n",
        "It checks if the contents or data of the two objects are the same.\n",
        "\n",
        "is (Identity Operator):\n",
        "\n",
        "Compares the identity (memory address) of two objects.\n",
        "It checks if both variables point to the same object in memory.\n",
        "\n",
        "\n",
        "8. What are logical operators in Python?\n",
        "\n",
        "Answer -  In Python, logical operators are used to combine multiple conditions and check if they are true or false. The three main logical operators in Python are:\n",
        "\n",
        "and: This operator returns True if both conditions are true. If any one of the conditions is false, it returns False.\n",
        "\n",
        "Example: True and False will return False.\n",
        "or: This operator returns True if at least one of the conditions is true. It only returns False if both conditions are false.\n",
        "\n",
        "Example: True or False will return True.\n",
        "not: This operator reverses the result of a condition. If the condition is true, not makes it false; if the condition is false, not makes it true.\n",
        "\n",
        "Example: not True will return False.\n",
        "\n",
        "9. What is type casting in Python?\n",
        "\n",
        "Answer-  1. Implicit Type Casting (Automatic):\n",
        "This happens automatically when Python converts a smaller data type to a larger one. For example, converting an integer to a float. You don’t need to do anything, Python does it for you.\n",
        "\n",
        "Explicit Type Casting (Manual):\n",
        "This is when you explicitly tell Python to convert one data type to another using functions like int(), float(), or str().\n",
        "\n",
        "10. What is the difference between implicit and explicit type casting?\n",
        "\n",
        "Answer - Implicit Type Casting (Automatic):\n",
        "\n",
        "The computer does this automatically.\n",
        "Happens when converting from a smaller data type to a larger one (e.g., from int to float).\n",
        "You don’t have to do anything, it’s handled by the programming language.\n",
        "\n",
        "Explicit Type Casting (Manual):\n",
        "\n",
        "The programmer tells the computer how to convert the data type.\n",
        "You need to use a specific function or method to convert the type.\n",
        "Happens when converting from a larger data type to a smaller one (e.g., from float to int), or when you want more control over the conversion.\n",
        "\n",
        "11.  What is the purpose of conditional statements in Python?\n",
        "\n",
        "Answer-- Conditional statements in Python are used to make decisions in your code based on certain conditions. They allow your program to choose different actions depending on whether a specific condition is true or false. This is how your program can \"decide\" what to do next.\n",
        "\n",
        "12. How does the elif statement work?\n",
        "\n",
        "Answer -- The elif statement is a way to check multiple conditions in Python, and it stands for \"else if.\" It allows you to check additional conditions after an initial if statement. Here's how it works in a simple way:\n",
        "\n",
        "if statement: First, you check a condition. If it is True, the code inside that block runs.\n",
        "elif statement: If the if condition is False, the program checks the elif condition. If this is True, the code inside the elif block runs.\n",
        "else statement: If none of the above conditions are true, the else block runs.\n",
        "\n",
        "13. What is the difference between for and while loops?\n",
        "\n",
        "Answer -- The main difference between a for loop and a while loop comes down to how they are used to repeat actions.\n",
        "\n",
        "For Loop:\n",
        "Used when you know the number of times you want to repeat an action.\n",
        "It has a counter that starts at a certain number, repeats while a condition is true, and then stops when the condition is no longer true.\n",
        "\n",
        "While Loop:\n",
        "Used when you don't know how many times you need to repeat an action, but you want to repeat it as long as a condition is true.\n",
        "It keeps repeating until the condition becomes false.\n",
        "\n",
        "14 . Describe a scenario where a while loop is more suitable than a for loop.?\n",
        "\n",
        "Answer -- A while loop is more suitable when you don't know in advance how many times the loop will run and you want it to continue as long as a certain condition is true.\n",
        "\n",
        "Example:\n",
        "Imagine you're waiting for your internet connection to work. You don't know how long it will take, but you want to keep trying until the connection is successful. In this case, a while loop is perfect because the loop continues checking the condition (whether the internet is connected) and only stops once it's true."
      ],
      "metadata": {
        "id": "XP6pJC7f4bpv"
      }
    },
    {
      "cell_type": "markdown",
      "source": [
        "Practical Questions"
      ],
      "metadata": {
        "id": "hq9Bs2Ug-3Fq"
      }
    },
    {
      "cell_type": "code",
      "execution_count": 2,
      "metadata": {
        "colab": {
          "base_uri": "https://localhost:8080/"
        },
        "id": "7mngmrcS4Y4j",
        "outputId": "44aebde7-21f8-41a7-ab98-b384743f3da4"
      },
      "outputs": [
        {
          "output_type": "stream",
          "name": "stdout",
          "text": [
            "Hello, World!\n"
          ]
        },
        {
          "output_type": "execute_result",
          "data": {
            "text/plain": [
              "<function print>"
            ]
          },
          "metadata": {},
          "execution_count": 2
        }
      ],
      "source": [
        "#1. Write a Python program to print \"Hello, World!_\n",
        "print(\"Hello, World!\")\n",
        "print"
      ]
    },
    {
      "cell_type": "code",
      "source": [
        "# 2. Write a Python program that displays your name and age.\n",
        "\n",
        "# Define variables for name and age\n",
        "name = \"John Doe\"\n",
        "age = 25\n",
        "\n",
        "# Display the name and age\n",
        "print(\"Name:\", name)\n",
        "print(\"Age:\", age)\n"
      ],
      "metadata": {
        "id": "RAGg910V_na-"
      },
      "execution_count": null,
      "outputs": []
    },
    {
      "cell_type": "code",
      "source": [
        "# 3.0 Write code to print all the pre-defined keywords in Python using the keyword library\n",
        "\n",
        "import keyword\n",
        "\n",
        "# Print all predefined keywords in Python\n",
        "print(keyword.kwlist)"
      ],
      "metadata": {
        "id": "LFow3vqJ_4E9"
      },
      "execution_count": null,
      "outputs": []
    },
    {
      "cell_type": "code",
      "source": [
        "#4. Write a program that checks if a given word is a Python keyword\n",
        "\n",
        "import keyword\n",
        "\n",
        "def check_keyword(word):\n",
        "    if keyword.iskeyword(word):\n",
        "        print(f\"'{word}' is a Python keyword.\")\n",
        "    else:\n",
        "        print(f\"'{word}' is not a Python keyword.\")\n",
        "\n",
        "# Test the function\n",
        "word = input(\"Enter a word to check if it is a Python keyword: \")\n",
        "check_keyword(word)\n"
      ],
      "metadata": {
        "id": "0I_BNCvbAJFz"
      },
      "execution_count": null,
      "outputs": []
    },
    {
      "cell_type": "code",
      "source": [
        "#5.Create a list and tuple in Python, and demonstrate how attempting to change an element works differently\n",
        "for each\n",
        "\n",
        "# Creating a list and a tuple\n",
        "my_list = [1, 2, 3, 4]\n",
        "my_tuple = (1, 2, 3, 4)\n",
        "\n",
        "# Attempt to modify an element in the list\n",
        "my_list[0] = 10  # This will work because lists are mutable\n",
        "print(\"Updated list:\", my_list)\n",
        "\n",
        "# Attempt to modify an element in the tuple\n",
        "try:\n",
        "    my_tuple[0] = 10  # This will raise an error because tuples are immutable\n",
        "except TypeError as e:\n",
        "    print(\"Error when trying to modify tuple:\", e)\n"
      ],
      "metadata": {
        "id": "4x42ADz_AU4t"
      },
      "execution_count": null,
      "outputs": []
    },
    {
      "cell_type": "code",
      "source": [
        "#6. Write a function to demonstrate the behavior of mutable and immutable arguments\n",
        "\n",
        "def demonstrate_mutability(immutable_arg, mutable_arg):\n",
        "    # Demonstrating immutable behavior (integer in this case)\n",
        "    print(f\"Before modifying immutable_arg: {immutable_arg}\")\n",
        "    immutable_arg += 10\n",
        "    print(f\"After modifying immutable_arg: {immutable_arg}\")\n",
        "\n",
        "    # Demonstrating mutable behavior (list in this case)\n",
        "    print(f\"Before modifying mutable_arg: {mutable_arg}\")\n",
        "    mutable_arg.append(4)  # Modify the mutable object\n",
        "    print(f\"After modifying mutable_arg: {mutable_arg}\")\n",
        "\n",
        "# Test with an integer (immutable) and a list (mutable)\n",
        "immutable_value = 5\n",
        "mutable_list = [1, 2, 3]\n",
        "\n",
        "# Calling the function\n",
        "demonstrate_mutability(immutable_value, mutable_list)\n",
        "\n",
        "# Outside the function, check how the arguments were affected\n",
        "print(f\"Outside the function, immutable_value: {immutable_value}\")\n",
        "print(f\"Outside the function, mutable_list: {mutable_list}\")\n"
      ],
      "metadata": {
        "id": "fVLVYA_fApem"
      },
      "execution_count": null,
      "outputs": []
    },
    {
      "cell_type": "code",
      "source": [
        "#7. Write a function to demonstrate the behavior of mutable and immutable arguments\n",
        "def demonstrate_mutability():\n",
        "    # Immutable argument: Integer\n",
        "    def modify_immutable(value):\n",
        "        print(f\"Original immutable value: {value}\")\n",
        "        value = 10  # Re-assigning the value, which does not affect the original\n",
        "        print(f\"Modified immutable value (inside function): {value}\")\n",
        "\n",
        "    # Mutable argument: List\n",
        "    def modify_mutable(value):\n",
        "        print(f\"Original mutable value: {value}\")\n",
        "        value.append(4)  # Modifying the list in place\n",
        "        print(f\"Modified mutable value (inside function): {value}\")\n",
        "\n",
        "    # Test with immutable argument (integer)\n",
        "    num = 5\n",
        "    print(\"Testing with immutable argument (integer):\")\n",
        "    modify_immutable(num)\n",
        "    print(f\"Value outside function after modification: {num}\\n\")  # Shows no change\n",
        "\n",
        "    # Test with mutable argument (list)\n",
        "    my_list = [1, 2, 3]\n",
        "    print(\"Testing with mutable argument (list):\")\n",
        "    modify_mutable(my_list)\n",
        "    print(f\"Value outside function after modification: {my_list}\\n\")  # Shows change\n",
        "\n",
        "\n",
        "# Call the function to see the output\n",
        "demonstrate_mutability()\n",
        "\n"
      ],
      "metadata": {
        "id": "mqSjNa9fA76J"
      },
      "execution_count": null,
      "outputs": []
    },
    {
      "cell_type": "code",
      "source": [
        "#8.Write a program to demonstrate the use of logical operators\n",
        "\n",
        "# Program to demonstrate the use of logical operators\n",
        "\n",
        "# Define some variables\n",
        "age = 25\n",
        "has_drivers_license = True\n",
        "is_student = False\n",
        "\n",
        "# Using 'and' logical operator\n",
        "if age > 18 and has_drivers_license:\n",
        "    print(\"You are eligible to drive.\")\n",
        "\n",
        "# Using 'or' logical operator\n",
        "if age < 18 or not has_drivers_license:\n",
        "    print(\"You are not eligible to drive.\")\n",
        "\n",
        "# Using 'not' logical operator\n",
        "if not is_student:\n",
        "    print(\"You are not a student.\")\n",
        "\n",
        "# Combining 'and', 'or', and 'not'\n",
        "if (age > 18 and has_drivers_license) or (is_student and not has_drivers_license):\n",
        "    print(\"You either meet the driving requirements or you are a student without a license.\")\n",
        "\n",
        "# Output the results\n",
        "print(\"Program has finished executing.\")\n"
      ],
      "metadata": {
        "id": "J_m88jp-BIIB"
      },
      "execution_count": null,
      "outputs": []
    },
    {
      "cell_type": "code",
      "source": [
        "#9.Write a Python program to convert user input from string to integer, float, and boolean types\n",
        "\n",
        "# Function to get user input and convert to different types\n",
        "def convert_input():\n",
        "    user_input = input(\"Enter a value: \")\n",
        "\n",
        "    # Convert to integer, if possible\n",
        "    try:\n",
        "        int_value = int(user_input)\n",
        "        print(f\"Integer: {int_value}\")\n",
        "    except ValueError:\n",
        "        print(\"Cannot convert to integer.\")\n",
        "\n",
        "    # Convert to float, if possible\n",
        "    try:\n",
        "        float_value = float(user_input)\n",
        "        print(f\"Float: {float_value}\")\n",
        "    except ValueError:\n",
        "        print(\"Cannot convert to float.\")\n",
        "\n",
        "    # Convert to boolean (non-empty strings are considered True)\n",
        "    bool_value = bool(user_input)\n",
        "    print(f\"Boolean: {bool_value}\")\n",
        "\n",
        "# Call the function to run the conversion\n",
        "convert_input()\n"
      ],
      "metadata": {
        "id": "B5tO6_XtBT-8"
      },
      "execution_count": null,
      "outputs": []
    },
    {
      "cell_type": "code",
      "source": [
        "#10.Write code to demonstrate type casting with list elements\n",
        "\n",
        "# List of mixed data types\n",
        "mixed_list = ['10', '20', '30', 40, 50.5]\n",
        "\n",
        "# Type casting: converting string elements to integers and float to integers\n",
        "converted_list = [int(item) if isinstance(item, str) else int(item) if isinstance(item, float) else item for item in mixed_list]\n",
        "\n",
        "# Printing the original and converted lists\n",
        "print(\"Original List:\", mixed_list)\n",
        "print(\"Converted List:\", converted_list)\n"
      ],
      "metadata": {
        "id": "bVrPji6bBeZ7"
      },
      "execution_count": null,
      "outputs": []
    },
    {
      "cell_type": "code",
      "source": [
        "#11.# Input: Read a number from the user\n",
        "num = float(input(\"Enter a number: \"))\n",
        "\n",
        "# Check if the number is positive, negative, or zero\n",
        "if num > 0:\n",
        "    print(\"The number is positive.\")\n",
        "elif num < 0:\n",
        "    print(\"The number is negative.\")\n",
        "else:\n",
        "    print(\"The number is zero.\")\n"
      ],
      "metadata": {
        "id": "-XKQGxWzBl7I"
      },
      "execution_count": null,
      "outputs": []
    },
    {
      "cell_type": "code",
      "source": [
        "#12.  Write a for loop to print numbers from 1 to 100\n",
        "\n",
        "for i in range(1, 101):\n",
        "    print(i)\n"
      ],
      "metadata": {
        "id": "HJ4veX1CBtBw"
      },
      "execution_count": null,
      "outputs": []
    },
    {
      "cell_type": "code",
      "source": [
        "#13.Write a Python program to find the sum of all even numbers between 1 and 500\n",
        "\n",
        "# Initialize sum variable\n",
        "even_sum = 0\n",
        "\n",
        "# Loop through numbers from 1 to 500\n",
        "for num in range(2, 501, 2):  # Starting from 2 and stepping by 2 to only include even numbers\n",
        "    even_sum += num\n",
        "\n",
        "# Output the result\n",
        "print(\"The sum of all even numbers between 1 and 500 is:\", even_sum)\n"
      ],
      "metadata": {
        "id": "RcJqGmCMB5D5"
      },
      "execution_count": null,
      "outputs": []
    },
    {
      "cell_type": "code",
      "source": [
        "#14.Write a program to reverse a string using a while loop\n",
        "\n",
        "def reverse_string(input_string):\n",
        "    reversed_string = ''\n",
        "    index = len(input_string) - 1\n",
        "\n",
        "    while index >= 0:\n",
        "        reversed_string += input_string[index]\n",
        "        index -= 1\n",
        "\n",
        "    return reversed_string\n",
        "\n",
        "# Example usage\n",
        "input_string = \"Hello, world!\"\n",
        "reversed_result = reverse_string(input_string)\n",
        "print(\"Reversed string:\", reversed_result)\n"
      ],
      "metadata": {
        "id": "R2kRdSHRCA6y"
      },
      "execution_count": null,
      "outputs": []
    },
    {
      "cell_type": "code",
      "source": [
        "#15.Write a Python program to calculate the factorial of a number provided by the user using a while loop\n",
        "\n",
        "# Get input from the user\n",
        "number = int(input(\"Enter a number: \"))\n",
        "\n",
        "# Initialize the factorial variable\n",
        "factorial = 1\n",
        "\n",
        "# Check if the number is negative, zero or positive\n",
        "if number < 0:\n",
        "    print(\"Factorial is not defined for negative numbers.\")\n",
        "elif number == 0:\n",
        "    print(\"The factorial of 0 is 1.\")\n",
        "else:\n",
        "    # Calculate the factorial using a while loop\n",
        "    i = 1\n",
        "    while i <= number:\n",
        "        factorial *= i\n",
        "        i += 1\n",
        "    print(f\"The factorial of {number} is {factorial}.\")\n"
      ],
      "metadata": {
        "id": "zl_QRCChCNSB"
      },
      "execution_count": null,
      "outputs": []
    }
  ]
}